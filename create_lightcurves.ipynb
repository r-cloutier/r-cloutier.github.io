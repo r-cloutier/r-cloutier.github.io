{
 "cells": [
  {
   "cell_type": "code",
   "execution_count": 4,
   "id": "a140259b",
   "metadata": {},
   "outputs": [],
   "source": [
    "from imports import *\n",
    "import george, batman, csv\n",
    "from PyAstronomy.pyasl import MMSCETSTable\n",
    "%matplotlib inline"
   ]
  },
  {
   "cell_type": "code",
   "execution_count": 5,
   "id": "5c2700db",
   "metadata": {},
   "outputs": [],
   "source": [
    "main_directory = 'BIOPHYS_3D03_Assignment2'\n",
    "\n",
    "def main():\n",
    "    # loop over students\n",
    "    macids =  np.sort(np.genfromtxt('mac_ids.csv', dtype='|S50').astype(str))\n",
    "    \n",
    "    for i,m in enumerate(macids):\n",
    "        # create directory\n",
    "        if not os.path.exists(main_directory): os.mkdir(main_directory)\n",
    "        folder = '%s/%s'%(main_directory, m)\n",
    "        if not os.path.exists(folder): os.mkdir(folder)\n",
    "            \n",
    "        # sample stellar parameters\n",
    "        params1, params2, params3 = sample_three_stars()\n",
    "            \n",
    "        # create light curves\n",
    "#         synthesize_system1(folder)\n",
    "#         synthesize_system2(folder)\n",
    "#         synthesize_system3(folder)\n",
    "        \n",
    "    return None"
   ]
  },
  {
   "cell_type": "code",
   "execution_count": 171,
   "id": "b8593f31",
   "metadata": {},
   "outputs": [],
   "source": [
    "def create_LC(params_pl, Ntrmin, Ntrmax, pltt=False):\n",
    "    t = np.arange(0, params_pl['P']*np.random.uniform(Ntrmin,Ntrmax)*np.random.normal(1,.01), \n",
    "                  np.round(params_pl['D']*60)/60/24/np.random.uniform(3,8))\n",
    "    t += np.random.uniform(-np.diff(t)[0]/2, np.diff(t)[0]/2, t.size)\n",
    "    t = np.sort(t)\n",
    "    \n",
    "    model_full = np.zeros_like(t)\n",
    "    for i in range(len(params_pl['P'])):\n",
    "        args = params_pl['P'][i], params_pl['T0'][i], params_pl['rpRs'][i], params_pl['aRs'][i], 90, .2, .4\n",
    "        phase, model = rvs.transit_model(t, *args)\n",
    "        \n",
    "        model -= 1\n",
    "        model *= abs(params_pl['rpRs']**2 / np.nanmin(model))\n",
    "\n",
    "        model_full += model\n",
    "    \n",
    "    model_full += 1\n",
    "    \n",
    "    # clean time series\n",
    "    intransit = model_full < 1\n",
    "    outtransit = np.where(np.invert(intransit))[0]\n",
    "    np.random.shuffle(outtransit)\n",
    "    mask = np.sort(np.append(np.where(intransit)[0], outtransit[:20000]))\n",
    "    \n",
    "    t = t[mask]\n",
    "    phase = phase[mask]\n",
    "    model_full = model_full[mask]    \n",
    "    \n",
    "    # noise properties\n",
    "    sig = (1-np.nanmin(model_full)) / params_pl['SNR']\n",
    "    flux = model_full + np.random.normal(0, sig, t.size)\n",
    "    err = np.repeat(sig, t.size)\n",
    "        \n",
    "    if pltt:\n",
    "        plot_LC((t, phase, model_full, flux, err))\n",
    "        plot_phasedLC((t, phase, model_full, flux, err), params_pl)\n",
    "    \n",
    "    return t, phase, model_full, flux, err\n",
    "\n",
    "\n",
    "def plot_LC(timeseries):\n",
    "    t, phase, model_full, flux, err = timeseries\n",
    "    plt.figure(1)\n",
    "    plt.errorbar(t, flux, err, fmt='k.')\n",
    "    plt.plot(t, model_full, zorder=3)\n",
    "    return None\n",
    "\n",
    "\n",
    "def plot_phasedLC(timeseries, params_pl):\n",
    "    t, phase, model_full, flux, err = timeseries\n",
    "    phase *= params_pl['P']*24\n",
    "    \n",
    "    plt.figure(2)\n",
    "    plt.errorbar(phase, flux, err, fmt='k.')\n",
    "    s = np.argsort(phase)\n",
    "    plt.plot(phase[s], model_full[s], zorder=3)\n",
    "    plt.xlim(-2*params_pl['D'], 2*params_pl['D'])\n",
    "    \n",
    "    return None"
   ]
  },
  {
   "cell_type": "code",
   "execution_count": 172,
   "id": "d9187b6d",
   "metadata": {},
   "outputs": [],
   "source": [
    "def sample_three_stars():\n",
    "    '''Sample three different host stars.'''\n",
    "    # star table\n",
    "    Mamajek_table = MMSCETSTable().getTable()\n",
    "    MRint = interp1d(Mamajek_table['Msun'], Mamajek_table['R_Rsun'])\n",
    "    MTint = interp1d(Mamajek_table['Msun'], Mamajek_table['Teff'])\n",
    "    \n",
    "    # low mass star\n",
    "    Ms = np.random.uniform(.08, .5)\n",
    "    params1 = [Ms, float(MRint(Ms)), float(MTint(Ms))]\n",
    "    \n",
    "    # Sun-like star\n",
    "    Ms = np.random.uniform(.8, 1.2)\n",
    "    params2 = [Ms, float(MRint(Ms)), float(MTint(Ms))]\n",
    "    \n",
    "    # high mass star\n",
    "    Ms = np.random.uniform(3, 10)\n",
    "    params3 = [Ms, float(MRint(Ms)), float(MTint(Ms))]\n",
    "    \n",
    "    # randomize the order\n",
    "    p = [params1, params2, params3]\n",
    "    np.random.shuffle(p)\n",
    "    \n",
    "    return p \n",
    "    \n",
    "    \n",
    "def synthesize_system1(folder, params_st):\n",
    "    '''Sample a temperate terrestrial planet.'''\n",
    "    # planet radius \n",
    "    params_pl = {}\n",
    "    params_pl['Rp'] = np.random.uniform(.8,1.6,1)\n",
    "    params_pl['F'] = 10**(np.random.uniform(np.log10(.5),np.log10(2),1))\n",
    "    params_pl['A'] = np.random.uniform(.2,.8,1)\n",
    "    \n",
    "    # derive stuff\n",
    "    Ms, Rs, Teff = params_st\n",
    "    Ls = Rs**2 * (Teff/5780)**4\n",
    "    params_pl['a'] = np.sqrt(Ls / params_pl['F'])\n",
    "    params_pl['Teq'] = rvs.Teq(Teff, Rs, A=params_pl['A'], sma=params_pl['a'])\n",
    "    params_pl['P'] = rvs.period_sma(params_pl['a'], Ms, 0)\n",
    "    params_pl['rpRs'] = 0.009170524802300503 * params_pl['Rp'] / Rs\n",
    "    params_pl['aRs'] = rvs.aRs(params_pl['P'], Ms, Rs)\n",
    "    params_pl['D'] = 24*rvs.transit_width_aRs(params_pl['P'], params_pl['aRs'], params_pl['rpRs']**2, 0).astype(float)\n",
    "    \n",
    "    # create transit light curve\n",
    "    params_pl['T0'] = np.random.uniform(0, params_pl['P']*.4)\n",
    "    params_pl['SNR'] = np.random.uniform(3.5,5)\n",
    "    print(params_pl['SNR'])\n",
    "    \n",
    "    # save star stuff\n",
    "    params_st = {}\n",
    "    params_st['Ms'], params_st['Rs'], params_st['Ls'], params_st['Teff'] = Ms, Rs, Ls, Teff\n",
    "    \n",
    "    # create LC\n",
    "    create_LC(params_pl, 3, 5, pltt=True)\n",
    "    \n",
    "    return params_st, params_pl\n",
    "    \n",
    "    \n",
    "def synthesize_system2(folder, params_st):\n",
    "    '''Sample a temperate terrestrial planet.'''\n",
    "    # planet radius \n",
    "    params_pl = {}\n",
    "    params_pl['Rp'] = np.random.uniform(.8,1.6,1)\n",
    "    params_pl['F'] = 10**(np.random.uniform(np.log10(.5),np.log10(2),1))\n",
    "    params_pl['A'] = np.random.uniform(.2,.8,1)\n",
    "    \n",
    "    # derive stuff\n",
    "    Ms, Rs, Teff = params_st\n",
    "    Ls = Rs**2 * (Teff/5780)**4\n",
    "    params_pl['a'] = np.sqrt(Ls / params_pl['F'])\n",
    "    params_pl['Teq'] = rvs.Teq(Teff, Rs, A=params_pl['A'], sma=params_pl['a'])\n",
    "    params_pl['P'] = rvs.period_sma(params_pl['a'], Ms, 0)\n",
    "    params_pl['rpRs'] = 0.009170524802300503 * params_pl['Rp'] / Rs\n",
    "    params_pl['aRs'] = rvs.aRs(params_pl['P'], Ms, Rs)\n",
    "    params_pl['D'] = 24*rvs.transit_width_aRs(params_pl['P'], params_pl['aRs'], params_pl['rpRs']**2, 0).astype(float)\n",
    "    \n",
    "    # create transit light curve\n",
    "    params_pl['T0'] = np.random.uniform(0, params_pl['P']*.4)\n",
    "    params_pl['SNR'] = np.random.uniform(3.5,5)\n",
    "    print(params_pl['SNR'])\n",
    "    \n",
    "    # save star stuff\n",
    "    params_st = {}\n",
    "    params_st['Ms'], params_st['Rs'], params_st['Ls'], params_st['Teff'] = Ms, Rs, Ls, Teff\n",
    "    \n",
    "    # create LC\n",
    "    create_LC(params_pl, 3, 5, pltt=True)\n",
    "    \n",
    "    return params_st, params_pl\n"
   ]
  },
  {
   "cell_type": "code",
   "execution_count": 178,
   "id": "f133248d",
   "metadata": {},
   "outputs": [
    {
     "name": "stdout",
     "output_type": "stream",
     "text": [
      "4.126617429014884\n"
     ]
    },
    {
     "data": {
      "image/png": "[encoded data removed]",
      "text/plain": [
       "<Figure size 432x288 with 1 Axes>"
      ]
     },
     "metadata": {
      "needs_background": "light"
     },
     "output_type": "display_data"
    },
    {
     "data": {
      "image/png": "[encoded data removed]",
      "text/plain": [
       "<Figure size 432x288 with 1 Axes>"
      ]
     },
     "metadata": {
      "needs_background": "light"
     },
     "output_type": "display_data"
    }
   ],
   "source": [
    "# main()\n",
    "# sample_three_stars()\n",
    "\n",
    "params_st, params_pl = synthesize_system1(0, sample_three_stars()[0])"
   ]
  },
  {
   "cell_type": "code",
   "execution_count": null,
   "id": "ef782a2d",
   "metadata": {},
   "outputs": [],
   "source": []
  }
 ],
 "metadata": {
  "kernelspec": {
   "display_name": "Python 3",
   "language": "python",
   "name": "python3"
  },
  "language_info": {
   "codemirror_mode": {
    "name": "ipython",
    "version": 3
   },
   "file_extension": ".py",
   "mimetype": "text/x-python",
   "name": "python",
   "nbconvert_exporter": "python",
   "pygments_lexer": "ipython3",
   "version": "3.8.2"
  }
 },
 "nbformat": 4,
 "nbformat_minor": 5
}
